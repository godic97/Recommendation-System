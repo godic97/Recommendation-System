{
 "cells": [
  {
   "cell_type": "markdown",
   "id": "add50ba1-35f6-4c43-a4ed-87fde39ca460",
   "metadata": {
    "tags": []
   },
   "source": [
    "# Factorization Machine Example"
   ]
  },
  {
   "cell_type": "markdown",
   "id": "de666164-925c-41e9-adf3-2d0cd366c844",
   "metadata": {},
   "source": [
    "## 0. Import"
   ]
  },
  {
   "cell_type": "code",
   "execution_count": 1,
   "id": "3335eb7f-7324-4232-bcf8-8bd946c98595",
   "metadata": {},
   "outputs": [],
   "source": [
    "from sklearn.datasets import load_breast_cancer\n",
    "from sklearn.model_selection import train_test_split\n",
    "from sklearn.preprocessing import OneHotEncoder\n",
    "from sklearn.metrics import roc_auc_score\n",
    "from torch.utils.data import Dataset, DataLoader\n",
    "\n",
    "\n",
    "import pandas as pd\n",
    "import torch\n",
    "import torch.nn as nn\n",
    "import torch.nn.functional as F\n",
    "import numpy as np\n",
    "import timeit\n",
    "import warnings\n",
    "\n",
    "warnings.filterwarnings(action='ignore')"
   ]
  },
  {
   "cell_type": "markdown",
   "id": "596fdf34-1c07-413d-903f-0c441264aa94",
   "metadata": {},
   "source": [
    "## 1. Defines"
   ]
  },
  {
   "cell_type": "code",
   "execution_count": 2,
   "id": "3e9e0d96-6b3f-4078-9361-24d94020024a",
   "metadata": {},
   "outputs": [],
   "source": [
    "batch_size = 2048\n",
    "epochs = 10\n",
    "lr = 1e-2"
   ]
  },
  {
   "cell_type": "code",
   "execution_count": 3,
   "id": "32aeb9dc-37e5-4ae5-acd1-be85ea5d8620",
   "metadata": {},
   "outputs": [],
   "source": [
    "class MovieLens_Dataset(Dataset):\n",
    "    def __init__(self, X, y):\n",
    "        super(Dataset, self).__init__()\n",
    "        \n",
    "        self.X = X\n",
    "        self.y = np.array(list(map(lambda x: 1 if x>=3 else 0, y)))\n",
    "\n",
    "        self.len = self.X.shape[0]\n",
    "\n",
    "    def __len__(self):\n",
    "        return self.len\n",
    "\n",
    "    def __getitem__(self, index):\n",
    "        return torch.tensor(self.X[index], dtype=torch.int64), torch.tensor(self.y[index], dtype=torch.float32)"
   ]
  },
  {
   "cell_type": "code",
   "execution_count": 4,
   "id": "d380acda-0d53-483b-b87b-eb294f1ca2d0",
   "metadata": {},
   "outputs": [],
   "source": [
    "class FM(nn.Module):\n",
    "    def __init__(self, input_shape, f=8, all_categories=10):\n",
    "        super().__init__()\n",
    "        self.linear = nn.Linear(input_shape, 1)\n",
    "        self.V = nn.Embedding(all_categories, f)\n",
    "        self.w = nn.Embedding(all_categories, 1)\n",
    "        \n",
    "    def forward(self, X):\n",
    "        V_X = self.V(torch.unsqueeze(X,dim=1))\n",
    "        \n",
    "\n",
    "        output = torch.sum(self.w(X), dim=1) + 0.5 * torch.sum(torch.sum(V_X, dim=1)**2 - torch.sum(V_X ** 2, dim=1))\n",
    "    \n",
    "        return F.sigmoid(output)"
   ]
  },
  {
   "cell_type": "markdown",
   "id": "8d789187-a589-4aa9-bd8b-c01c057c6d40",
   "metadata": {},
   "source": [
    "## 2. Load dataset"
   ]
  },
  {
   "cell_type": "code",
   "execution_count": 5,
   "id": "a6b6f006-e4a4-412e-81e7-d34fca9590cd",
   "metadata": {
    "tags": []
   },
   "outputs": [
    {
     "name": "stdout",
     "output_type": "stream",
     "text": [
      "162540.0\n",
      "162541\n",
      "================================================================================\n",
      "221587.0\n",
      "59047\n",
      "================================================================================\n",
      "(20000076, 2)\n",
      "(5000019, 2)\n"
     ]
    }
   ],
   "source": [
    "dataset = pd.read_csv('./data/ml-25m/ratings.csv', engine='c', header='infer').to_numpy()\n",
    "\n",
    "X = dataset[:, :2]\n",
    "y = dataset[:, 2]\n",
    "\n",
    "categorical_features = [0, 1]\n",
    "all_categories = 0\n",
    "\n",
    "for i in categorical_features:\n",
    "    X[:,i] -= 1\n",
    "    \n",
    "    if np.max(X[:,i]) != np.unique(X[:,i]).shape[0]:\n",
    "        re_category_dict = {c : j for j, c in enumerate(np.unique(X[:,i]))}\n",
    "        \n",
    "        for j in range(len(X[:,i])):\n",
    "            X[j,i] = re_category_dict[X[j,i]]\n",
    "\n",
    "    X[:,i] += all_categories\n",
    "    print(np.max(X[:,i]))\n",
    "    print(np.unique(X[:,i]).shape[0])\n",
    "    print(\"=\"*80)\n",
    "    \n",
    "    all_categories += np.unique(X[:,i]).shape[0]\n",
    "    \n",
    "train_X, test_X, train_y, test_y = train_test_split(X, y, test_size=0.2, random_state=42)\n",
    "\n",
    "print(train_X.shape)\n",
    "print(test_X.shape)"
   ]
  },
  {
   "cell_type": "code",
   "execution_count": 6,
   "id": "cb2bd296-836b-4b07-9a61-513b6f04669b",
   "metadata": {},
   "outputs": [],
   "source": [
    "train_dataset = MovieLens_Dataset(train_X, train_y)\n",
    "test_dataset = MovieLens_Dataset(test_X, test_y)\n",
    "\n",
    "train_loader = DataLoader(train_dataset, batch_size=batch_size, shuffle=True)\n",
    "test_loader = DataLoader(test_dataset, batch_size=batch_size, shuffle=False)"
   ]
  },
  {
   "cell_type": "code",
   "execution_count": 7,
   "id": "338a6cbc-9ecb-4183-bf9d-66e1bf8b160c",
   "metadata": {},
   "outputs": [],
   "source": [
    "model = FM(input_shape=train_X.shape[1], f=16, all_categories=all_categories)\n",
    "\n",
    "optimizer = torch.optim.Adam(model.parameters(), lr=lr, weight_decay=1e-5)\n",
    "criterion = nn.BCELoss()"
   ]
  },
  {
   "cell_type": "code",
   "execution_count": 8,
   "id": "23c4ca5d-cda1-4f54-a1fd-535f31082464",
   "metadata": {},
   "outputs": [],
   "source": [
    "def train(train_loader, model, optimizer, criterion, log_interval, epoch, batch_size):\n",
    "    model.train()\n",
    "    \n",
    "    for batch_idx, (X, y) in enumerate(train_loader):\n",
    "        optimizer.zero_grad()\n",
    "                \n",
    "        y_pred = model(X)\n",
    "        loss = criterion(y_pred, torch.unsqueeze(y, dim=1))\n",
    "\n",
    "        \n",
    "        loss.backward()\n",
    "        optimizer.step()\n",
    "        \n",
    "        print(\"Train Epoch: {} [{}/{}({:.0f}%)]\\t\".format(\n",
    "                epoch, batch_idx * batch_size, len(train_loader.dataset), 100. * batch_idx / len(train_loader)), end = \"\\r\", flush=True)"
   ]
  },
  {
   "cell_type": "code",
   "execution_count": 9,
   "id": "28da06cc-9881-49ac-9eb3-04e3b72f4e41",
   "metadata": {},
   "outputs": [],
   "source": [
    "def evaluate(test_loader, model):\n",
    "    model.eval()\n",
    "    \n",
    "    test_loss = 0\n",
    "    pred = np.array([])\n",
    "    target = np.array([])\n",
    "    \n",
    "    with torch.no_grad():\n",
    "        for X, y in test_loader:\n",
    "            y_pred = model(X)\n",
    "            test_loss += criterion(y_pred, torch.unsqueeze(y, dim=1))\n",
    "            \n",
    "            pred = np.append(pred, y_pred.detach().numpy())\n",
    "            target = np.append(target, y.detach().numpy())\n",
    "\n",
    "    test_loss /= len(test_loader.dataset) \n",
    "    test_loss *= batch_size\n",
    "    \n",
    "    roc_auc = roc_auc_score(target.reshape(-1), pred.reshape(-1))\n",
    "    \n",
    "    return test_loss, roc_auc"
   ]
  },
  {
   "cell_type": "code",
   "execution_count": 10,
   "id": "41deda4d-7182-4088-a0a3-b679a2b60e46",
   "metadata": {},
   "outputs": [
    {
     "name": "stdout",
     "output_type": "stream",
     "text": [
      "start\n",
      "Train Epoch: 1 [19998720/20000076(100%)]\t\n",
      " 1  epoch is done, the time is 00:05:35.981267 \n",
      "test loss is 0.41865411400794983 \n",
      "test ROC-AUC is 0.7438574887702566 \n",
      "\n",
      "Train Epoch: 2 [19998720/20000076(100%)]\t\n",
      " 2  epoch is done, the time is 00:05:42.006553 \n",
      "test loss is 0.4186549484729767 \n",
      "test ROC-AUC is 0.7436714670215783 \n",
      "\n",
      "Train Epoch: 3 [19998720/20000076(100%)]\t\n",
      " 3  epoch is done, the time is 00:05:34.962115 \n",
      "test loss is 0.418719083070755 \n",
      "test ROC-AUC is 0.7433758794584293 \n",
      "\n",
      "Train Epoch: 4 [19998720/20000076(100%)]\t\n",
      " 4  epoch is done, the time is 00:05:32.688009 \n",
      "test loss is 0.4186740517616272 \n",
      "test ROC-AUC is 0.7434307329220462 \n",
      "\n",
      "Train Epoch: 5 [19998720/20000076(100%)]\t\n",
      " 5  epoch is done, the time is 00:05:32.351740 \n",
      "test loss is 0.4185069799423218 \n",
      "test ROC-AUC is 0.7440920648849669 \n",
      "\n",
      "Train Epoch: 6 [19998720/20000076(100%)]\t\n",
      " 6  epoch is done, the time is 00:05:45.439331 \n",
      "test loss is 0.4186120629310608 \n",
      "test ROC-AUC is 0.7439432222756137 \n",
      "\n",
      "Train Epoch: 7 [19998720/20000076(100%)]\t\n",
      " 7  epoch is done, the time is 00:07:7.845677 \n",
      "test loss is 0.41859716176986694 \n",
      "test ROC-AUC is 0.7440365782912924 \n",
      "\n",
      "Train Epoch: 8 [19998720/20000076(100%)]\t\n",
      " 8  epoch is done, the time is 00:07:25.223716 \n",
      "test loss is 0.4186699688434601 \n",
      "test ROC-AUC is 0.7436601451116363 \n",
      "\n",
      "Train Epoch: 9 [19998720/20000076(100%)]\t\n",
      " 9  epoch is done, the time is 00:07:29.830421 \n",
      "test loss is 0.41874247789382935 \n",
      "test ROC-AUC is 0.7434606541164337 \n",
      "\n",
      "Train Epoch: 10 [19998720/20000076(100%)]\t\n",
      " 10  epoch is done, the time is 00:07:27.980451 \n",
      "test loss is 0.4185293912887573 \n",
      "test ROC-AUC is 0.7439945098482725 \n",
      "\n"
     ]
    }
   ],
   "source": [
    "best = 1000\n",
    "print(\"start\")\n",
    "for epoch in range(1, epochs + 1):\n",
    "\n",
    "    start_time = timeit.default_timer()\n",
    "    \n",
    "    train(train_loader, model, optimizer, criterion, log_interval=100, epoch=epoch, batch_size=batch_size)\n",
    "    test_loss, roc_auc = evaluate(test_loader, model)\n",
    "    \n",
    "    terminate_time = timeit.default_timer()\n",
    "    time = terminate_time - start_time\n",
    "    \n",
    "    print(\"\\n\", epoch, \" epoch is done, the time is %02d:%02d:%2f\" % ((time//3600), (time//60)%60, time%60),\n",
    "          \"\\ntest loss is\", test_loss.item(), \"\\ntest ROC-AUC is\", roc_auc, \"\\n\")"
   ]
  },
 ],
 "metadata": {
  "kernelspec": {
   "display_name": "Python 3",
   "language": "python",
   "name": "python3"
  },
  "language_info": {
   "codemirror_mode": {
    "name": "ipython",
    "version": 3
   },
   "file_extension": ".py",
   "mimetype": "text/x-python",
   "name": "python",
   "nbconvert_exporter": "python",
   "pygments_lexer": "ipython3",
   "version": "3.6.9"
  }
 },
 "nbformat": 4,
 "nbformat_minor": 5
}
