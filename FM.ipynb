{
 "cells": [
  {
   "cell_type": "markdown",
   "id": "add50ba1-35f6-4c43-a4ed-87fde39ca460",
   "metadata": {
    "tags": []
   },
   "source": [
    "# Factorization Machine Example"
   ]
  },
  {
   "cell_type": "markdown",
   "id": "de666164-925c-41e9-adf3-2d0cd366c844",
   "metadata": {},
   "source": [
    "## 0. Import"
   ]
  },
  {
   "cell_type": "code",
   "execution_count": 1,
   "id": "3335eb7f-7324-4232-bcf8-8bd946c98595",
   "metadata": {},
   "outputs": [],
   "source": [
    "from sklearn.datasets import load_breast_cancer\n",
    "from sklearn.linear_model import LogisticRegression\n",
    "from sklearn.model_selection import train_test_split\n",
    "from surprise import SVD\n",
    "\n",
    "import numpy as np\n",
    "import warnings\n",
    "\n",
    "warnings.filterwarnings(action='ignore')"
   ]
  },
  {
   "cell_type": "markdown",
   "id": "824fa1c8-8206-4225-8a9c-2a0d9e38b5c6",
   "metadata": {},
   "source": [
    "## 1. Define function that makes FM input"
   ]
  },
  {
   "cell_type": "code",
   "execution_count": 2,
   "id": "ebd02dfb-42c7-47b1-a865-ce4f386b7f7c",
   "metadata": {},
   "outputs": [],
   "source": [
    "def make_fm_input(data):\n",
    "    results = np.zeros((len(data), len(data[0]) + int((len(data[0]))*(len(data[0])-1)/2)))\n",
    "\n",
    "    for i, d in enumerate(data):\n",
    "        tmp = np.array([])\n",
    "        tmp = np.append(tmp, d)\n",
    "        \n",
    "        for j in range(len(d)-1):\n",
    "            for k in range(j+1, len(d)):\n",
    "                tmp = np.append(tmp, d[j] * d[k])\n",
    "                \n",
    "        results[i] = tmp\n",
    "        \n",
    "    return results"
   ]
  },
  {
   "cell_type": "markdown",
   "id": "8d789187-a589-4aa9-bd8b-c01c057c6d40",
   "metadata": {},
   "source": [
    "## 2. Load dataset"
   ]
  },
  {
   "cell_type": "code",
   "execution_count": 3,
   "id": "bb1d448d-f5a4-47f1-9fee-3ac24e3ea569",
   "metadata": {},
   "outputs": [
    {
     "name": "stdout",
     "output_type": "stream",
     "text": [
      "(426, 30)\n",
      "(426, 465)\n",
      "(426,)\n",
      "(143, 30)\n",
      "(143, 465)\n",
      "(143,)\n"
     ]
    }
   ],
   "source": [
    "X, y = load_breast_cancer(return_X_y=True)\n",
    "train_X, test_X, train_y, test_y = train_test_split(X, y, test_size=0.25, random_state=42)\n",
    "\n",
    "fm_train_X = make_fm_input(train_X)\n",
    "fm_test_X = make_fm_input(test_X)\n",
    "\n",
    "print(train_X.shape)\n",
    "print(fm_train_X.shape)\n",
    "print(train_y.shape)\n",
    "\n",
    "print(test_X.shape)\n",
    "print(fm_test_X.shape)\n",
    "print(test_y.shape)"
   ]
  },
  {
   "cell_type": "markdown",
   "id": "9f2ff70d-abeb-4b7e-941b-6c7786f7d805",
   "metadata": {},
   "source": [
    "## 3. Train FM"
   ]
  },
  {
   "cell_type": "code",
   "execution_count": 4,
   "id": "70d471e4-a373-4067-b3d1-043bac94bebb",
   "metadata": {},
   "outputs": [
    {
     "data": {
      "text/plain": [
       "LogisticRegression(penalty='none')"
      ]
     },
     "execution_count": 4,
     "metadata": {},
     "output_type": "execute_result"
    }
   ],
   "source": [
    "fm_classifier = LogisticRegression(penalty='none')\n",
    "fm_classifier.fit(fm_train_X, train_y)"
   ]
  },
  {
   "cell_type": "markdown",
   "id": "a3ee7a05-2eea-42bf-8ec7-e9e0ae6fb771",
   "metadata": {
    "tags": []
   },
   "source": [
    "## 4. Compare FM with logistic model"
   ]
  },
  {
   "cell_type": "code",
   "execution_count": 5,
   "id": "92816d0d-254e-47e0-811d-0a65e752347d",
   "metadata": {},
   "outputs": [
    {
     "data": {
      "text/plain": [
       "LogisticRegression(penalty='none')"
      ]
     },
     "execution_count": 5,
     "metadata": {},
     "output_type": "execute_result"
    }
   ],
   "source": [
    "lg_classifier = LogisticRegression(penalty='none')\n",
    "lg_classifier.fit(train_X, train_y)"
   ]
  },
  {
   "cell_type": "code",
   "execution_count": 6,
   "id": "6d0b0007-20fe-4fc0-b646-10f2283b71f2",
   "metadata": {},
   "outputs": [
    {
     "data": {
      "text/plain": [
       "0.972027972027972"
      ]
     },
     "execution_count": 6,
     "metadata": {},
     "output_type": "execute_result"
    }
   ],
   "source": [
    "fm_classifier.score(fm_test_X, test_y)"
   ]
  },
  {
   "cell_type": "code",
   "execution_count": 7,
   "id": "17072d13-64d8-47e2-be8d-2df97d2fb384",
   "metadata": {},
   "outputs": [
    {
     "data": {
      "text/plain": [
       "0.965034965034965"
      ]
     },
     "execution_count": 7,
     "metadata": {},
     "output_type": "execute_result"
    }
   ],
   "source": [
    "lg_classifier.score(test_X, test_y)"
   ]
  }
 ],
 "metadata": {
  "kernelspec": {
   "display_name": "Python 3",
   "language": "python",
   "name": "python3"
  },
  "language_info": {
   "codemirror_mode": {
    "name": "ipython",
    "version": 3
   },
   "file_extension": ".py",
   "mimetype": "text/x-python",
   "name": "python",
   "nbconvert_exporter": "python",
   "pygments_lexer": "ipython3",
   "version": "3.6.9"
  }
 },
 "nbformat": 4,
 "nbformat_minor": 5
}
