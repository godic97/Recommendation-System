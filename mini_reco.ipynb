{
 "cells": [
  {
   "attachments": {},
   "cell_type": "markdown",
   "id": "23c905ae",
   "metadata": {},
   "source": [
    "Mini Reco"
   ]
  },
  {
   "attachments": {},
   "cell_type": "markdown",
   "id": "53f431d4",
   "metadata": {},
   "source": [
    "Defines"
   ]
  },
  {
   "cell_type": "code",
   "execution_count": 1,
   "id": "0df1754a-671d-4626-a40d-d1a7bae6aa41",
   "metadata": {},
   "outputs": [
    {
     "name": "stdout",
     "output_type": "stream",
     "text": [
      "num_sim_user_top_N: 2\n",
      "num_item_rec_top_M: 2\n",
      "num_users: 5\n",
      "num_items: 10\n",
      "num_rows: 15\n",
      "================================================================================\n",
      "ratings: (15, 3)\n",
      "[['1' '1' '1.0']\n",
      " ['1' '2' '2.0']\n",
      " ['1' '5' '1.2']\n",
      " ['2' '2' '1.5']\n",
      " ['2' '3' '3.0']\n",
      " ['3' '1' '2.2']\n",
      " ['3' '2' '6.2']\n",
      " ['3' '7' '1.5']\n",
      " ['4' '6' '1.2']\n",
      " ['4' '3' '1.5']\n",
      " ['4' '1' '3.1']\n",
      " ['4' '2' '4.0']\n",
      " ['5' '4' '8.2']\n",
      " ['5' '2' '6.5']\n",
      " ['5' '7' '8.0']]\n",
      "================================================================================\n",
      "num_reco_users: 2\n",
      "================================================================================\n",
      "who: (2,)\n",
      "[1 2]\n"
     ]
    }
   ],
   "source": [
    "import numpy as np\n",
    "\n",
    "testcase = \"000.txt\"\n",
    "file = open(\"./data/mini_reco/input/input\"+testcase, \"r\")\n",
    "inputs = file.readlines()\n",
    "file.close()\n",
    "\n",
    "num_sim_user_top_N = int(inputs[0])\n",
    "print('num_sim_user_top_N:', num_sim_user_top_N)\n",
    "\n",
    "num_item_rec_top_M = int(inputs[1])\n",
    "print('num_item_rec_top_M:', num_item_rec_top_M)\n",
    "\n",
    "num_users = int(inputs[2])\n",
    "print('num_users:', num_users)\n",
    "\n",
    "num_items = int(inputs[3])\n",
    "print('num_items:', num_items)\n",
    "\n",
    "num_rows = int(inputs[4])\n",
    "print('num_rows:', num_rows)\n",
    "print('='*80)\n",
    "\n",
    "ratings = np.array([rating.split() for rating in inputs[5:num_rows+5]])\n",
    "print('ratings:', ratings.shape)\n",
    "print(ratings)\n",
    "print('='*80)\n",
    "\n",
    "num_reco_users = int(inputs[num_rows+5])\n",
    "print('num_reco_users:', num_reco_users)\n",
    "print('='*80)\n",
    "\n",
    "who = np.array([u for u in inputs[num_rows+6:]]).astype(int) - 1\n",
    "print('who:', who.shape)\n",
    "print(who+1)\n",
    "\n",
    "U = np.array([np.zeros(num_sim_user_top_N) for _ in range(num_users)]).astype(int)\n",
    "I_hat = np.array([np.zeros(num_item_rec_top_M) for _ in range(num_users)])\n",
    "\n",
    "rating_matrix = np.array([np.zeros(num_items) for _ in range(num_users)])"
   ]
  },
  {
   "cell_type": "code",
   "execution_count": 2,
   "id": "d0f6b0f8",
   "metadata": {},
   "outputs": [
    {
     "name": "stdout",
     "output_type": "stream",
     "text": [
      "rating matrix: (5, 10)\n",
      "[[1.  2.  0.  0.  1.2 0.  0.  0.  0.  0. ]\n",
      " [0.  1.5 3.  0.  0.  0.  0.  0.  0.  0. ]\n",
      " [2.2 6.2 0.  0.  0.  0.  1.5 0.  0.  0. ]\n",
      " [3.1 4.  1.5 0.  0.  1.2 0.  0.  0.  0. ]\n",
      " [0.  6.5 0.  8.2 0.  0.  8.  0.  0.  0. ]]\n"
     ]
    }
   ],
   "source": [
    "for r in ratings:\n",
    "    rating_matrix[int(r[0])-1, int(r[1])-1] = float(r[2])\n",
    "\n",
    "print('rating matrix:', rating_matrix.shape)\n",
    "print(rating_matrix)"
   ]
  },
  {
   "cell_type": "code",
   "execution_count": 4,
   "id": "9d581c5e",
   "metadata": {},
   "outputs": [
    {
     "name": "stdout",
     "output_type": "stream",
     "text": [
      "similarities: (5, 5)\n",
      "[[1.         0.35245369 0.85263096 0.80806489 0.38892261]\n",
      " [0.35245369 1.         0.41092055 0.57833467 0.22069431]\n",
      " [0.85263096 0.41092055 1.         0.86572355 0.58845823]\n",
      " [0.80806489 0.57833467 0.86572355 1.         0.36467191]\n",
      " [0.38892261 0.22069431 0.58845823 0.36467191 1.        ]]\n",
      "================================================================================\n",
      "U: (5, 2)\n",
      "[[3 4]\n",
      " [4 3]\n",
      " [4 1]\n",
      " [3 1]\n",
      " [3 1]]\n"
     ]
    }
   ],
   "source": [
    "similarities = np.array([np.zeros(num_users) for _ in range(num_users)])\n",
    "\n",
    "user_vectors = rating_matrix #U_svd rating_matrix\n",
    "\n",
    "for i in range(num_users):\n",
    "    similarities[i] = np.array([np.dot(user_vectors[i], u)/(np.linalg.norm(user_vectors[i]) * np.linalg.norm(u)) for u in user_vectors])\n",
    "    similarities[i][i] = 1.0 + 1e-100\n",
    "    \n",
    "    U[i] = np.flip(similarities[i].argsort())[1:num_sim_user_top_N + 1]\n",
    "    if i == 50:\n",
    "        print(U[i])\n",
    "\n",
    "print('similarities:', similarities.shape)\n",
    "print(similarities)\n",
    "print('='*80)\n",
    "print('U:', U.shape)\n",
    "print(U+1)"
   ]
  },
  {
   "cell_type": "code",
   "execution_count": 5,
   "id": "a163caa1",
   "metadata": {},
   "outputs": [
    {
     "name": "stdout",
     "output_type": "stream",
     "text": [
      "rating_matrix_hat: (5, 10)\n",
      "[[ 1.40225013  2.77496093  0.17971726 -0.45495506 -0.45495506  0.05278279\n",
      "  -0.08298978 -0.45495506 -0.45495506 -0.45495506]\n",
      " [ 2.35974543  3.61977969  1.10498663  0.3424437   0.3424437   0.95247804\n",
      "   0.6433844   0.3424437   0.3424437   0.3424437 ]\n",
      " [ 3.12537895  4.66812229  1.27596887  0.61882588  1.99697493  1.14454027\n",
      "   0.61882588  0.61882588  0.61882588  0.61882588]\n",
      " [ 1.72823959  3.84490959  0.06123689  0.06123689  1.40212807  0.06123689\n",
      "   0.43595965  0.06123689  0.06123689  0.06123689]\n",
      " [ 6.87838307  8.96259002  5.31761319  5.31761319  6.42282936  5.31761319\n",
      "   5.75381074  5.31761319  5.31761319  5.31761319]]\n"
     ]
    }
   ],
   "source": [
    "rating_matrix_hat = np.array([np.zeros(num_items) for _ in range(num_users)])\n",
    "\n",
    "for i in range(num_users):\n",
    "    for u in U[i]:\n",
    "        r_hat = (rating_matrix[u] - (np.sum(rating_matrix[u])/np.sum(rating_matrix[u]!=0))) / (np.std(rating_matrix[u][rating_matrix[u]!=0]) + 1e-100)\n",
    "        rating_matrix_hat[i] += r_hat  * similarities[i, u]\n",
    "        \n",
    "    rating_matrix_hat[i] /= np.sum(np.absolute(similarities[i, U[i]]))\n",
    "\n",
    "    bias = np.sum(rating_matrix[i])/np.sum(rating_matrix[i]!=0)\n",
    "\n",
    "    rating_matrix_hat[i] += bias\n",
    "\n",
    "print('rating_matrix_hat:', rating_matrix_hat.shape)\n",
    "print(rating_matrix_hat)"
   ]
  },
  {
   "cell_type": "code",
   "execution_count": 6,
   "id": "1cefa4d6",
   "metadata": {},
   "outputs": [
    {
     "name": "stdout",
     "output_type": "stream",
     "text": [
      "results: (2, 2)\n",
      "[[3 6]\n",
      " [1 6]]\n"
     ]
    }
   ],
   "source": [
    "results = []\n",
    "for i in who:\n",
    "    reco_items = np.flip(rating_matrix_hat[i].argsort())\n",
    "    rating = rating_matrix[i]!= 0\n",
    "    result = np.array([r for r in reco_items if rating[r] == False][:num_item_rec_top_M]) + 1\n",
    "    results.append(result)\n",
    "\n",
    "results = np.array(results)\n",
    "\n",
    "print('results:', results.shape)\n",
    "print(results)"
   ]
  },
  {
   "cell_type": "code",
   "execution_count": 7,
   "id": "14ce2c83",
   "metadata": {},
   "outputs": [],
   "source": [
    "import math\n",
    "\n",
    "def ndcg(gt, rec):\n",
    "    idcg = sum([1.0 / math.log(i + 2, 2) for i in range(len(gt))])\n",
    "    dcg = 0.0\n",
    "    for i, r in enumerate(rec):\n",
    "        if r not in gt:\n",
    "            continue\n",
    "        gt_index = gt.index(r)\n",
    "        if i != gt_index:\n",
    "            rel = 0.7\n",
    "        else:\n",
    "            rel = 1.0\n",
    "        dcg += rel / math.log(i + 2, 2)\n",
    "    ndcg = dcg / idcg\n",
    "\n",
    "    return ndcg"
   ]
  },
  {
   "cell_type": "code",
   "execution_count": 8,
   "id": "780be542",
   "metadata": {},
   "outputs": [
    {
     "name": "stdout",
     "output_type": "stream",
     "text": [
      "gt: (2, 2)\n",
      "[[3 6]\n",
      " [1 6]]\n",
      "================================================================================\n",
      "1.0\n"
     ]
    }
   ],
   "source": [
    "file = open(\"./data/mini_reco/output/output\"+testcase, \"r\")\n",
    "test_inputs = file.readlines()\n",
    "file.close()\n",
    "\n",
    "gt = np.array([item.split() for item in test_inputs]).astype(int)\n",
    "print('gt:', gt.shape)\n",
    "print(gt)\n",
    "print('='*80)\n",
    "\n",
    "print(ndcg(gt.tolist(), results.tolist()))"
   ]
  }
 ],
 "metadata": {
  "kernelspec": {
   "display_name": "Python 3",
   "language": "python",
   "name": "python3"
  },
  "language_info": {
   "codemirror_mode": {
    "name": "ipython",
    "version": 3
   },
   "file_extension": ".py",
   "mimetype": "text/x-python",
   "name": "python",
   "nbconvert_exporter": "python",
   "pygments_lexer": "ipython3",
   "version": "3.6.9"
  }
 },
 "nbformat": 4,
 "nbformat_minor": 5
}
